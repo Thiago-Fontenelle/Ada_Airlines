{
  "nbformat": 4,
  "nbformat_minor": 0,
  "metadata": {
    "colab": {
      "provenance": [],
      "collapsed_sections": [
        "i5TGYsiEq1Iy",
        "tyRLSflZ-jhz",
        "wtv8hbpD6ILN",
        "5-b6s3LjX39s"
      ],
      "include_colab_link": true
    },
    "kernelspec": {
      "name": "python3",
      "display_name": "Python 3"
    },
    "language_info": {
      "name": "python"
    }
  },
  "cells": [
    {
      "cell_type": "markdown",
      "metadata": {
        "id": "view-in-github",
        "colab_type": "text"
      },
      "source": [
        "<a href=\"https://colab.research.google.com/github/Thiago-Fontenelle/Ada_Airlines/blob/main/Projeto_Ada_Airlines.ipynb\" target=\"_parent\"><img src=\"https://colab.research.google.com/assets/colab-badge.svg\" alt=\"Open In Colab\"/></a>"
      ]
    },
    {
      "cell_type": "markdown",
      "source": [
        "#Simulação de aeroporto"
      ],
      "metadata": {
        "id": "eMdcbSGspzRq"
      }
    },
    {
      "cell_type": "markdown",
      "source": [
        "## Imports"
      ],
      "metadata": {
        "id": "-rH-Sx0LYL-M"
      }
    },
    {
      "cell_type": "code",
      "source": [
        "import random\n",
        "import time\n",
        "from datetime import datetime\n",
        "from string import ascii_uppercase, digits\n",
        "import pandas as pd\n",
        "\n",
        "random.seed(42)"
      ],
      "metadata": {
        "id": "7qOA4zOBYQCS"
      },
      "execution_count": 2,
      "outputs": []
    },
    {
      "cell_type": "markdown",
      "source": [
        "##Funções Geradoras"
      ],
      "metadata": {
        "id": "i5TGYsiEq1Iy"
      }
    },
    {
      "cell_type": "markdown",
      "source": [
        "### air_starter"
      ],
      "metadata": {
        "id": "tyRLSflZ-jhz"
      }
    },
    {
      "cell_type": "code",
      "source": [
        "def air_starter(size: int)-> dict:\n",
        "  '''\n",
        "  Recebe número inteiro.\n",
        "  Retorna dicionários baseados nesse número inteiro que podem ser usados commo pistas, prateleiras e filas.\n",
        "  '''\n",
        "  \n",
        "  new_starter = {i+1: [] for i in range(size)}\n",
        "  \n",
        "  return new_starter"
      ],
      "metadata": {
        "id": "KGG1KoubT2Pi"
      },
      "execution_count": 3,
      "outputs": []
    },
    {
      "cell_type": "markdown",
      "source": [
        "### IDs"
      ],
      "metadata": {
        "id": "3ax8_bjJkIXD"
      }
    },
    {
      "cell_type": "code",
      "source": [
        "def id_gen(id_type: int, id_list, len_arg: int = 3)-> str:\n",
        "  '''\n",
        "  Recebe número inteiro para a definição do tipo de ID, número inteiro para o tamanho da ID \n",
        "  e lista para armazenar IDs já geradas.\n",
        "  Retorna string única, com len_arg letras e len_arg dígitos, \n",
        "  aleatória e que não esteja presente na lista de IDs.\n",
        "  '''\n",
        "  if id_type == 0:\n",
        "    id =  ''.join(random.sample(ascii_uppercase[:13], k=len_arg)+random.sample(digits, k=len_arg))\n",
        "    while id in id_list:\n",
        "      id =  ''.join(random.sample(ascii_uppercase[:13], k=len_arg)+random.sample(digits, k=len_arg))\n",
        "  else:\n",
        "    id =  ''.join(random.sample(ascii_uppercase[13:], k=len_arg)+random.sample(digits, k=len_arg))\n",
        "    while id in id_list:\n",
        "      id =  ''.join(random.sample(ascii_uppercase[13:], k=len_arg)+random.sample(digits, k=len_arg))\n",
        "  id_list += [id]\n",
        "  \n",
        "  return id"
      ],
      "metadata": {
        "id": "DBxZ8TKhi2Yf"
      },
      "execution_count": 4,
      "outputs": []
    },
    {
      "cell_type": "markdown",
      "source": [
        "\n",
        "\n",
        "###Gerador de IDs - (desenvolvendo)\n",
        "\n"
      ],
      "metadata": {
        "id": "ngbLUQ2sIuw8"
      }
    },
    {
      "cell_type": "code",
      "source": [
        "def plane_generator(plane_type: int, id_list: list, \n",
        "                    fuel_min: int = 2, fuel_max: int = 20, cicle_id: str = None) -> dict:\n",
        "  '''\n",
        "  Recebe tipo de avião a ser gerado (0= aterriságem 1= decolagem), lista de ids para evitar repetições, \n",
        "  nível mínimo e máximo de combistível(inteiros) e id do ciclo(opcional).\n",
        "  Retorna dicionário com 6 chaves contendo os dados do avição gerado.\n",
        "  Exemplo:\n",
        "  {'lane': None,\n",
        "   'ID': 'HCM895',\n",
        "   'fuel': 16,\n",
        "   'wait': 0,\n",
        "   'cicle': None,\n",
        "   'final_lane': None}\n",
        "  '''\n",
        "  \n",
        "  # Entrada 0 gera id de aterrissagem\n",
        "  if plane_type == 0:\n",
        "    new_id = {'lane': None, 'ID': id_gen(id_type = 0, id_list = id_list), \n",
        "              'fuel': random.randint(fuel_min, fuel_max), 'wait': 0, 'cicle': cicle_id, 'final_lane': None}\n",
        "    \n",
        "    return new_id\n",
        "  \n",
        "  # Entrada 1 gera id de decolagem\n",
        "  elif plane_type == 1:\n",
        "    new_id = {'lane': None, 'ID': id_gen(id_type = 1, id_list = id_list), \n",
        "              'fuel': random.randint(fuel_min, fuel_max), 'wait': 0, 'cicle': cicle_id, 'final_lane': None}\n",
        "\n",
        "    return new_id\n",
        "\n",
        "  else:\n",
        "    raise ValueError('Value not in accepted range')"
      ],
      "metadata": {
        "id": "cMCobOCPUe2M"
      },
      "execution_count": 5,
      "outputs": []
    },
    {
      "cell_type": "markdown",
      "source": [
        "###Gerador de aviões"
      ],
      "metadata": {
        "id": "uQuwEVvNJAnG"
      }
    },
    {
      "cell_type": "code",
      "source": [
        "def air_entry(plane_type: int, arrivals: dict, id_list: list, \n",
        "              p_min: int = 0, p_max: int = 3, cicle_id: str = None)-> None:\n",
        "  \n",
        "  '''\n",
        "  Recebe o tipo de avião a ser gerado(0 ou 1), dicionário que receberá os aviões gerados,\n",
        "  lista de IDs para evitar repetições, mínimo e máximo(p_min, p_max) de aviões a serem gerados \n",
        "  e ID do ciclo(opcional)\n",
        "  Altera dicionários que servem como filas e prateleiras para aviões.\n",
        "  '''\n",
        "\n",
        "  # plane_type == 0 gera avisões para aterrissaem\n",
        "  if plane_type == 0:\n",
        "    arrivals = shelves\n",
        "    \n",
        "    for i in arrivals:\n",
        "      # evitando um 'randint(0, p_max < 0)'\n",
        "      if len(arrivals[i]) < p_max:\n",
        "        # evitando que a lotação de fila ultrapasse o limite estabelecido\n",
        "        p_max -= len(arrivals[i])\n",
        "        planes = random.randint(p_min, p_max)\n",
        "        \n",
        "        if planes > 0:\n",
        "          for j in range(planes):\n",
        "            new_plane = plane_generator(plane_type= plane_type, cicle_id = cicle_id, id_list = id_list)\n",
        "            new_plane['lane'] =  i\n",
        "            arrivals[i] += [new_plane]\n",
        "  \n",
        "  # plane_type == 1 gera aviões para decolagem\n",
        "  elif plane_type == 1:\n",
        "    arrivals = t_o_lines\n",
        "    \n",
        "    for i in arrivals:\n",
        "      # evitando um 'randint(0, p_max < 0)'\n",
        "      if len(arrivals[i]) < p_max:\n",
        "        # evitando que a lotação de fila ultrapasse o limite estabelecido\n",
        "        p_max -= len(arrivals[i])\n",
        "        planes = random.randint(p_min, p_max)\n",
        "        \n",
        "        if planes > 0:\n",
        "          for j in range(planes):\n",
        "            new_plane = plane_generator(plane_type= plane_type, cicle_id = cicle_id, id_list = id_list)\n",
        "            new_plane['lane'] = i\n",
        "            arrivals[i] += [new_plane]\n",
        "  \n",
        "  else:\n",
        "    raise ValueError(\"No valid 'plane_type' informed\")"
      ],
      "metadata": {
        "id": "dDWY2sfZq69F"
      },
      "execution_count": 6,
      "outputs": []
    },
    {
      "cell_type": "markdown",
      "source": [
        "##Funções de equilíbrio"
      ],
      "metadata": {
        "id": "wtv8hbpD6ILN"
      }
    },
    {
      "cell_type": "markdown",
      "source": [
        "###Fila de prioridade"
      ],
      "metadata": {
        "id": "Z6i1Ve36Pfwo"
      }
    },
    {
      "cell_type": "code",
      "source": [
        "def priorities(shel: dict) -> list:\n",
        "  '''\n",
        "  Recebe um dicionário de aviões em prateleiras.\n",
        "  Retorna uma lista de listas, com cada lista aninhada contendo os aviões com nível de combustível baixo.\n",
        "  Combusível baixo é definido entre prioridade maior (\"fuel\" == 1) e prioridade menor (\"fuel\" == 3).\n",
        "  Aviões dentro das listas de prioridade são definidos ordenados por tempo de espera.\n",
        "  '''\n",
        "  prio_1 = sorted([j for i in shel for j in shel[i] if j['fuel'] == 1 \n",
        "                   if len(shel[i]) > 0], key=lambda prio: prio['wait'], reverse = True)\n",
        "  \n",
        "  prio_2 = sorted([j for i in shel for j in shel[i] if j['fuel'] == 2 \n",
        "                   if len(shel[i]) > 0], key=lambda prio: prio['wait'], reverse = True)\n",
        "\n",
        "  prio_3 = sorted([j for i in shel for j in shel[i] if j['fuel'] == 3 \n",
        "                   if len(shel[i]) > 0], key=lambda prio: prio['wait'], reverse = True)\n",
        "\n",
        "  return [prio_1, prio_2, prio_3]"
      ],
      "metadata": {
        "id": "HPivlXb0PeyG"
      },
      "execution_count": 7,
      "outputs": []
    },
    {
      "cell_type": "markdown",
      "source": [
        "###prio_line_manager"
      ],
      "metadata": {
        "id": "i8Bb1UKaKNyy"
      }
    },
    {
      "cell_type": "code",
      "source": [
        "def prio_line_manager(spaces: dict, air: dict)-> None:\n",
        "  '''\n",
        "  Recebe pistas e prateleiras.\n",
        "  Roda função de prioridades.\n",
        "  Decide se aviões na lista de prioidades devem ser aterrissados imediatamente.\n",
        "  '''\n",
        "  \n",
        "  prios = priorities(shel= air)\n",
        "\n",
        "  # Laço 'for' para fazer a checagem filas automaticamente para todas as pistas não populadas nessa rodada\n",
        "  for p in prios[0]:  \n",
        "      \n",
        "    for n in range(len(spaces), 0, -1):\n",
        "      if len(spaces[n]) == 0 and len(prios[0]) > 0:\n",
        "          \n",
        "        fuel_1 = prios[0][0]\n",
        "        spaces[n] = air[fuel_1['lane']].pop(air[fuel_1['lane']].index(fuel_1))\n",
        "        spaces[n]['final_lane'] = n\n",
        "        prios[0].pop(0)\n",
        "                \n",
        "    if len(prios[1]) > 0:\n",
        "      # Criando condição de emergência caso muitos aviões estejam com 2 de combustivel\n",
        "      if len(prios[1]) < 3:\n",
        "        final_range = len(spaces) -1\n",
        "      else:\n",
        "        final_range = 0\n",
        "  \n",
        "      for n in range(len(spaces), final_range, -1):\n",
        "        if len(spaces[n]) == 0 and len(prios[1]) > 0:\n",
        "            \n",
        "          fuel_2 = prios[1][0]\n",
        "          spaces[n] = air[fuel_2['lane']].pop(air[fuel_2['lane']].index(fuel_2))\n",
        "          spaces[n]['final_lane'] = n\n",
        "          prios[1].pop(0)\n",
        "    # aviões de prioridade 3 têm prioridade menor e usam apenas a pista 3\n",
        "    if len(spaces[3]) == 0 and len(prios[2]) > 2:\n",
        "      \n",
        "      fuel_3 = prios[2][0]\n",
        "      spaces[3] = air[fuel_3['lane']].pop(air[fuel_3['lane']].index(fuel_3))\n",
        "      spaces[3]['final_lane'] = 3\n",
        "      prios[2].pop(0)"
      ],
      "metadata": {
        "id": "UdPCaEckUy1b"
      },
      "execution_count": 8,
      "outputs": []
    },
    {
      "cell_type": "markdown",
      "source": [
        "###line_manager"
      ],
      "metadata": {
        "id": "u7u7De32uBel"
      }
    },
    {
      "cell_type": "code",
      "source": [
        "def line_manager(spaces: dict, air: dict, ground: dict)-> None:\n",
        "  '''\n",
        "  Recebe dicionários de filas e prateleiras.\n",
        "  Decide quais aviões devem usar as pistas após as prioridades terem sido consideradas.\n",
        "  Decisão é feita na hierarquia de comparação:\n",
        "  Maior fila\n",
        "    Maior tempo de espera\n",
        "      Se tempo de espera for igual, aviões nas prateleiras tem prioridade.\n",
        "  '''\n",
        "  for i in range(1, len(spaces)+1): \n",
        "    # Checagem é feita apenas para pistas que ainda não foram populadas nessa rodada\n",
        "    if len(spaces[i]) == 0:\n",
        "      if len(air) == len(ground):\n",
        "        g_idx = i\n",
        "      else:\n",
        "        g_idx = 1\n",
        "      \n",
        "      size_lanes = [len(air[i]), len(ground[g_idx])]\n",
        "      \n",
        "      # Prioridade principal é para o tamanho das filas, assim mantendo o aeroporto rodando com o máximo de aviões\n",
        "      if sum(size_lanes) > 0:\n",
        "        \n",
        "        # Se as filas tiverem o mesmo tamanho, a prioridade passa a ser o tempo de espera\n",
        "        if size_lanes[0] == size_lanes[1]:\n",
        "          \n",
        "          # Se os tempos de espera forem iguais, a prioridade é para aterrisagem por questões de segurança\n",
        "          if air[i][0]['wait'] >= ground[g_idx][0]['wait']:\n",
        "            air[i][0]['final_lane'] = i\n",
        "            spaces[i] = air[i].pop(0)\n",
        "          else:\n",
        "            ground[g_idx][0]['final_lane'] = i\n",
        "            spaces[i] = ground[g_idx].pop(0)\n",
        "        \n",
        "        # Condicionais para filas de espera que tenham tamanhos diferentes\n",
        "        elif size_lanes[0] < size_lanes[1]:\n",
        "          ground[g_idx][0]['final_lane'] = i\n",
        "          spaces[i] = ground[g_idx].pop(0)\n",
        "        elif size_lanes[0] > size_lanes[1]:\n",
        "          air[i][0]['final_lane'] = i\n",
        "          spaces[i] = air[i].pop(0)"
      ],
      "metadata": {
        "id": "qMFfOb66cu90"
      },
      "execution_count": 9,
      "outputs": []
    },
    {
      "cell_type": "markdown",
      "source": [
        "##Funções de Ciclo"
      ],
      "metadata": {
        "id": "raR49tO9nITl"
      }
    },
    {
      "cell_type": "markdown",
      "source": [
        "### Line roll"
      ],
      "metadata": {
        "id": "g_tXtdVw14Ab"
      }
    },
    {
      "cell_type": "code",
      "source": [
        "def line_roll(spaces: dict, database: list, air: dict, ground: dict, crash: bool = False) -> None:\n",
        "  '''\n",
        "  Recebe a base de dados temporária(database), filas (air, ground) e pistas(spaces).\n",
        "  percorre as filas reduzindo o combustível dos aviões no ar \n",
        "  e aumentando o tempo de espera de todos os aviões.\n",
        "  No caso de acidente(combustível== 0), registra o acidente, cancela todos os vôos de decolágem e \n",
        "  aciona a função clean_up() para evacuar o aeroporto.\n",
        "  '''\n",
        "  plane_fall = []\n",
        "  idx_fall = []\n",
        "\n",
        "  for j in air:\n",
        "    # Rotação de todos os aviões nas prateleiras para reduzir combustível e aumentar tempo de espera  \n",
        "    for k in range(len(air[j])):\n",
        "    \n",
        "      air[j][k]['fuel'] -= 1\n",
        "      air[j][k]['wait'] += 1\n",
        "\n",
        "      if air[j][k]['fuel'] < 1:\n",
        "          \n",
        "        # Registro de acidente aéreo\n",
        "        crash = True\n",
        "        plane_fall += [air[j][k]]\n",
        "        idx_fall += [k]\n",
        "\n",
        "  if crash == False:      \n",
        "    for l in ground: \n",
        "      for idx in range(len(ground[l])):\n",
        "        ground[l][idx]['wait'] += 1\n",
        "\n",
        "  if crash == True:\n",
        "    for i in range(len(plane_fall)):\n",
        "      # final_lane: 321 significa acidente, para análises de dados posteriores\n",
        "      plane_fall[i]['final_lane'] = 321\n",
        "              \n",
        "      print('+'+'-'*59+'+')\n",
        "      print('|'+f'!!! ACIDENTE AÉREO !!!'.center(59, ' ')+'|')\n",
        "      print('+'+'-'*59+'+'+'\\n')\n",
        "      display(pd.DataFrame(plane_fall))\n",
        "      print()\n",
        "      \n",
        "      database.append(plane_fall)\n",
        "      del air[plane_fall[i]['lane']][idx_fall[i]]\n",
        "    \n",
        "    # Cancelamento de todos os vôos no chão\n",
        "    for p in ground:\n",
        "      canceled = []\n",
        "      for idx in range(len(ground[p])):\n",
        "        # final_lane: 0 significa cancelamento, para análises de dados posteriores\n",
        "        ground[p][0]['final_lane'] = 000\n",
        "        canceled.append(ground[p][0].copy())\n",
        "        database.append(ground[p].pop(0))\n",
        "      \n",
        "      print('+'+'-'*59+'+')\n",
        "      print('|'+f'!!! VÔOS CANCELADOS !!!'.center(59, ' ')+'|')\n",
        "      print('+'+'-'*59+'+'+'\\n')\n",
        "      display(pd.DataFrame(canceled))\n",
        "      print()\n",
        "    \n",
        "    clean_up(spaces = spaces, database = database, air = air, ground = ground, crash = True)"
      ],
      "metadata": {
        "id": "yT9usaLQnN1I"
      },
      "execution_count": 10,
      "outputs": []
    },
    {
      "cell_type": "markdown",
      "source": [
        "###clean_up"
      ],
      "metadata": {
        "id": "EOuxXXymJkCV"
      }
    },
    {
      "cell_type": "code",
      "source": [
        "def clean_up(spaces: dict, database: list, air: dict, ground: dict, crash: bool = False):\n",
        "  '''\n",
        "  Recebe a base de dados temporária(database), filas (air, ground) e pistas(spaces).\n",
        "  Faz o ciclo normal de esvaziamento de filas sem adicionar novos aviões,\n",
        "  Salva os aviões na base de dados com update_database().\n",
        "  '''\n",
        "  larger = []\n",
        "  larger += [len(ground[1])]\n",
        "\n",
        "  for i in air:\n",
        "    larger += [len(air[i])]\n",
        "  \n",
        "  for j in range(max(larger)):\n",
        "    # Como a checagem de acidente é feita durante um line_roll(), essa função não deve ser rodada na\n",
        "    #   primeira iteração da função clean_up() em caso de acidente\n",
        "    if crash == False:  \n",
        "      line_roll(spaces = spaces, database = database, air = air, ground = ground)\n",
        "    prio_line_manager(spaces = spaces, air = air)\n",
        "    line_manager(spaces = spaces, air = air, ground = ground)\n",
        "\n",
        "    crash = False\n",
        "    \n",
        "    air_header(f'OVERTIME[{j+1}]')\n",
        "    update_database(spaces = spaces, database = database)"
      ],
      "metadata": {
        "id": "p_5Wt1Q2v_OK"
      },
      "execution_count": 38,
      "outputs": []
    },
    {
      "cell_type": "markdown",
      "source": [
        "###update_database"
      ],
      "metadata": {
        "id": "0qmYPicriiHJ"
      }
    },
    {
      "cell_type": "code",
      "source": [
        "def update_database(spaces: dict, database: list)-> None:  \n",
        "  '''\n",
        "  Recebe pistas e base de dados.\n",
        "  Percorre as pistas, adiciona seu conteúdo à base de dados e limpa as pistas.\n",
        "  '''\n",
        "  print()\n",
        "  display(pd.DataFrame(spaces).transpose())\n",
        "  \n",
        "  for j in spaces:\n",
        "    if len(spaces[j]) > 0:\n",
        "      database.append(spaces[j].copy())\n",
        "      spaces[j].clear()\n",
        "  print()"
      ],
      "metadata": {
        "id": "B3oiKAlGioz_"
      },
      "execution_count": 12,
      "outputs": []
    },
    {
      "cell_type": "markdown",
      "source": [
        "###air_header"
      ],
      "metadata": {
        "id": "QlO3_b3NKGjz"
      }
    },
    {
      "cell_type": "code",
      "source": [
        "def air_header(text: str, sub_header: bool= False, new_line: bool= True):\n",
        "  '''\n",
        "  Recebe string.\n",
        "  Executa print() formatado para ser o cabeçalho ou sub-cabeçalho de uma tabela.\n",
        "  '''\n",
        "  if sub_header == False:\n",
        "    if new_line == True:\n",
        "      print()\n",
        "    print('+'+'-'*59+'+')\n",
        "    print('|'+text.center(59, ' ')+'|')\n",
        "    print('+'+'-'*59+'+')\n",
        "  else:\n",
        "    if new_line == True:\n",
        "      print()\n",
        "    print(('+'+'-'*29+'+').center(59, ' '))\n",
        "    print(('|'+text.center(29, ' ')+'|').center(59, ' '))\n",
        "    print(('+'+'-'*29+'+').center(59, ' '))"
      ],
      "metadata": {
        "id": "DhupOhFdKJKp"
      },
      "execution_count": 45,
      "outputs": []
    },
    {
      "cell_type": "markdown",
      "source": [
        "###database_file"
      ],
      "metadata": {
        "id": "3u8qlpW6tMHQ"
      }
    },
    {
      "cell_type": "code",
      "source": [
        "def database_file(database:list, new_file: bool, name: str='summary.csv'):\n",
        "  '''\n",
        "  Recebe base de dados e nome do arquivo CSV.\n",
        "  Se o parametro new_file= True cria novo arquivo, senão, adiciona dados à arquivo selecionado\n",
        "  '''\n",
        "  if new_file == True:\n",
        "    summary = pd.DataFrame(database)\n",
        "    summary.to_csv(name, index=False)\n",
        "  \n",
        "  else:\n",
        "    new_data = pd.DataFrame(database)\n",
        "    pd.read_csv(name).append(new_data).drop_duplicates().to_csv(name)"
      ],
      "metadata": {
        "id": "kC71HafStLXu"
      },
      "execution_count": 14,
      "outputs": []
    },
    {
      "cell_type": "markdown",
      "source": [
        "###air_cicle"
      ],
      "metadata": {
        "id": "LBkaFYmRKWjO"
      }
    },
    {
      "cell_type": "code",
      "source": [
        "def air_cicle(spaces: dict, database: list, air: dict, ground: dict, id_list: list, work_time: int = 20, \n",
        "              f_min: int = 0, f_max: int = 20, delay:int = 0, unicicle: bool = False, cicle = None, new_file: bool= True):\n",
        "  '''\n",
        "  Recebe todas as variáveis de funcionamento: base de dados, filas(decolagem, aterriságem), lista de IDs,\n",
        "  combustível(máximo e mínimo), time.sleep(opcional), unicicle e cicle.\n",
        "  Roda todas as funções em sequência de forma automática em um número de repetições definido por work_time\n",
        "  e limpa os aviões remanescentes após o fim das repetições.\n",
        "  No caso de unicicle= True recomenda-se o preenchimento de cicle com um datetime único para \n",
        "  gerar a ID do ciclo e, após teminar suas repetições manuais desejadas, rodar a função com unicicle= False\n",
        "  e work_time= 0 para a limpeza dos aviões remanescentes.\n",
        "  '''\n",
        "  if cicle == None:\n",
        "    cicle_id = datetime.now().strftime(\"%d/%m/%Y %H:%M:%S\")\n",
        "  \n",
        "\n",
        "  for i in range(work_time):\n",
        "\n",
        "    round = i+1\n",
        "    \n",
        "    # Atualizar tempo\n",
        "    line_roll(spaces= spaces, database= database, air= air, ground= ground)\n",
        "    \n",
        "    # Adicionar aviões\n",
        "    air_entry(plane_type= 0, arrivals= air, cicle_id= cicle_id, id_list= id_list)\n",
        "    air_entry(plane_type= 1, arrivals= ground, cicle_id= cicle_id, id_list= id_list)\n",
        "    \n",
        "    # Administrar filas\n",
        "    prio_line_manager(spaces= spaces, air = air)\n",
        "    line_manager(spaces= spaces, air= air, ground= ground)\n",
        "    \n",
        "    # Mostrar na tela dados sobre o ciclo\n",
        "    air_header(text= f'STATUS CICLE[{i+1}]')\n",
        "    \n",
        "    # Sub-tabela de status de prateleiras\n",
        "    status_shelves = [{'shelf': i, 'total_planes': len(air[i]), 'IDs': [j['ID'] for j in air[i]]} for i in range(1, len(air)+1)]\n",
        "    air_header(text= 'STATUS SHELVES', sub_header= True)\n",
        "    display(pd.DataFrame(status_shelves))\n",
        "    \n",
        "    # Sub-tabela de status de filas\n",
        "    status_lines = [{'line': i, 'total_planes': len(ground[i]), 'IDs': [j['ID'] for j in ground[i]]} for i in range(1, len(ground)+1)]\n",
        "    air_header(text= 'STATUS LINES', sub_header= True)\n",
        "    display(pd.DataFrame(status_lines))\n",
        "    \n",
        "    # Sub-tabela de status de espera\n",
        "    landing_wait = [i['wait'] for i in database if i['ID'][0] in ascii_uppercase[:13]]\n",
        "    take_off_wait = [i['wait'] for i in database if i['ID'][0] in ascii_uppercase[13:]]\n",
        "    if len(landing_wait) > 0 and len(take_off_wait) > 0:\n",
        "      med_lan = sum(landing_wait)/len(landing_wait)\n",
        "      med_t_o = sum(take_off_wait)/len(take_off_wait)\n",
        "    else: \n",
        "      med_lan = 0\n",
        "      med_t_o = 0\n",
        "      \n",
        "    emergency_lan = sum([1 for p in database if p['fuel']==1])\n",
        "    \n",
        "    wait_status = [{'landing_wait': med_lan,\n",
        "                    'take_off_wait': med_t_o,\n",
        "                    'emergency_landings': emergency_lan}]\n",
        "    \n",
        "    air_header(text= 'STATUS WAIT', sub_header= True)\n",
        "    display(pd.DataFrame(wait_status))\n",
        "    \n",
        "    # Carregar aviões que já chegaram nas lanes para base de dados\n",
        "    air_header(text= \"LANES\", sub_header= True)\n",
        "    update_database(spaces= spaces, database= database)\n",
        "    \n",
        "    time.sleep(delay)\n",
        "  \n",
        "  # Limpar aviões remanescentes nas filas após o fim do ciclo\n",
        "  if unicicle == False:\n",
        "\n",
        "    time.sleep(delay)\n",
        "    # Limpeza de aviões remanescentes\n",
        "    clean_up(spaces= spaces, database= database, air= air, ground= ground)\n",
        "    \n",
        "    # Tabela de resultados finais\n",
        "    result = pd.DataFrame(database)\n",
        "    air_header(text= 'FINAL RESULT')\n",
        "    display(result)\n",
        "    \n",
        "    emergency_lan = sum([1 for p in database if p['fuel']==1])\n",
        "    report = [{'total planes': len(database), \n",
        "                'medium_wait': sum([i['wait'] for i in database])/len(database),\n",
        "                'crashes': len([1 for i in range(len(database)) if database[i]['final_lane']==321]),\n",
        "                'canceled': len([1 for i in range(len(database)) if database[i]['final_lane']==0]),\n",
        "                'emergency_landings': emergency_lan}]\n",
        "    report = pd.DataFrame(report).transpose()\n",
        "    report = report.round(decimals= 2)\n",
        "    \n",
        "    # Tabela de metadados finais\n",
        "    air_header(text= 'RESULT REPORT')\n",
        "    display(report)\n",
        "\n",
        "    # Gerar CSV\n",
        "    database_file(database= database, new_file= new_file, name= 'summary.csv')"
      ],
      "metadata": {
        "id": "us_Pfv6MJLxp"
      },
      "execution_count": 54,
      "outputs": []
    },
    {
      "cell_type": "markdown",
      "source": [
        "##Base de dados fabricada para testes"
      ],
      "metadata": {
        "id": "5-b6s3LjX39s"
      }
    },
    {
      "cell_type": "code",
      "source": [
        "test_total_planes = []"
      ],
      "metadata": {
        "id": "0li9evWu21wt"
      },
      "execution_count": 26,
      "outputs": []
    },
    {
      "cell_type": "code",
      "source": [
        "test_lanes = {1 : [], 2 : [], 3 : []}"
      ],
      "metadata": {
        "id": "BH9BfszWaB3q"
      },
      "execution_count": 27,
      "outputs": []
    },
    {
      "cell_type": "code",
      "source": [
        "test_shelves = {1: [{'lane': 1, 'ID': 1, 'fuel': 10, 'wait': 0, 'time': 0, 'final_lane': None}, \n",
        "                    {'lane': 1, 'ID': 11, 'fuel': 9, 'wait': 0, 'time': 0, 'final_lane': None}, \n",
        "                    {'lane': 1, 'ID': 13, 'fuel': 3, 'wait': 0, 'time': 0, 'final_lane': None}], \n",
        "                2: [{'lane': 2, 'ID': 3, 'fuel': 2, 'wait': 0, 'time': 0, 'final_lane': None}, \n",
        "                    {'lane': 2, 'ID': 5, 'fuel': 1, 'wait': 0, 'time': 0, 'final_lane': None}, \n",
        "                    {'lane': 2, 'ID': 7, 'fuel': 14, 'wait': 0, 'time': 0, 'final_lane': None}], \n",
        "                3: [{'lane': 3, 'ID': 9, 'fuel': 3, 'wait': 0, 'time': 0, 'final_lane': None}, \n",
        "                    {'lane': 3, 'ID': 15, 'fuel': 16, 'wait': 0, 'time': 0, 'final_lane': None}, \n",
        "                    {'lane': 3, 'ID': 17, 'fuel': 2, 'wait': 0, 'time': 0, 'final_lane': None}]}\n",
        "\n",
        "test_t_o_lines = {1: [{'lane': 1, 'ID': 2, 'fuel': 20, 'wait': 0, 'time': 0, 'final_lane': None}, \n",
        "                      {'lane': 1, 'ID': 4, 'fuel': 20, 'wait': 0, 'time': 0, 'final_lane': None}, \n",
        "                      {'lane': 1, 'ID': 6, 'fuel': 20, 'wait': 0, 'time': 0, 'final_lane': None}]}"
      ],
      "metadata": {
        "id": "_mLOLu3weOtx"
      },
      "execution_count": 28,
      "outputs": []
    },
    {
      "cell_type": "code",
      "source": [
        "test_id_list = []"
      ],
      "metadata": {
        "id": "ZdkQYJks614r"
      },
      "execution_count": 29,
      "outputs": []
    },
    {
      "cell_type": "code",
      "source": [
        "line_roll(spaces = test_lanes, database = test_total_planes, air = test_shelves, \n",
        "              ground = test_t_o_lines, crash = False)"
      ],
      "metadata": {
        "id": "xYjfk28e3YJU"
      },
      "execution_count": null,
      "outputs": []
    },
    {
      "cell_type": "code",
      "source": [
        "prio_line_manager(spaces = test_lanes, air = test_shelves)"
      ],
      "metadata": {
        "id": "9vkXOeviizCD"
      },
      "execution_count": 31,
      "outputs": []
    },
    {
      "cell_type": "code",
      "source": [
        "line_manager(spaces = test_lanes, air = test_shelves, ground = test_t_o_lines)"
      ],
      "metadata": {
        "id": "2R7k7c_r2ajG"
      },
      "execution_count": 32,
      "outputs": []
    },
    {
      "cell_type": "code",
      "source": [
        "print(test_lanes)\n",
        "print(len(test_shelves[1]), len(test_shelves[2]), len(test_shelves[3]))\n",
        "print(len(test_lanes[1]), len(test_lanes[2]), len(test_lanes[3]))\n",
        "print(len(test_total_planes))\n",
        "test_total_planes"
      ],
      "metadata": {
        "id": "rLy9YmLXjYbY"
      },
      "execution_count": null,
      "outputs": []
    },
    {
      "cell_type": "markdown",
      "source": [
        "#Execução"
      ],
      "metadata": {
        "id": "fxGuJnrK0UW_"
      }
    },
    {
      "cell_type": "code",
      "source": [
        "# Pistas (decolagem/aterrissagem) onde os aviões serão armazenados temporariamente\n",
        "lanes = air_starter(size = 3)\n",
        "# Prateleiras (aterrisagem)\n",
        "shelves = air_starter(size = 3)\n",
        "# Filas de decolagem\n",
        "t_o_lines = air_starter(size = 1)\n",
        "# Lista de IDs para evitar repetição\n",
        "id_list = []\n",
        "# Base de dados de aviões que passaram pelo aeroporto a ser populada e exportada\n",
        "total_planes = []"
      ],
      "metadata": {
        "id": "JTh34cUDscd4"
      },
      "execution_count": 52,
      "outputs": []
    },
    {
      "cell_type": "code",
      "source": [
        "air_cicle(spaces = lanes, database = total_planes, air = shelves, ground = t_o_lines, \n",
        "          id_list = id_list, work_time= 20, new_file= True)"
      ],
      "metadata": {
        "id": "5SKEiNjlS1jd"
      },
      "execution_count": null,
      "outputs": []
    }
  ]
}